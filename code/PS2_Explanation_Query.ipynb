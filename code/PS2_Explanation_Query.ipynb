{
  "nbformat": 4,
  "nbformat_minor": 0,
  "metadata": {
    "colab": {
      "provenance": []
    },
    "kernelspec": {
      "name": "python3",
      "display_name": "Python 3"
    },
    "language_info": {
      "name": "python"
    }
  },
  "cells": [
    {
      "cell_type": "markdown",
      "source": [
        "Install `snscrape` if needed."
      ],
      "metadata": {
        "id": "hGVfO5_gqzOw"
      }
    },
    {
      "cell_type": "code",
      "execution_count": null,
      "metadata": {
        "id": "gmAKzS7fqhfl"
      },
      "outputs": [],
      "source": [
        "!pip install snscrape"
      ]
    },
    {
      "cell_type": "markdown",
      "source": [
        "Query the raw content of all tweets in the past 10 years satisfying the query `blockchain AND ((data privacy) OR (data security))`."
      ],
      "metadata": {
        "id": "65Ic4ibZq3KY"
      }
    },
    {
      "cell_type": "code",
      "source": [
        "import snscrape.modules.twitter as snt\n",
        "from collections import defaultdict\n",
        "data=[]\n",
        "query=\"blockchain AND ((data privacy) OR (data security)) since:2013-01-01 until:2023-01-01\"\n",
        "scraper=snt.TwitterSearchScraper(query)\n",
        "for tweet in scraper.get_items():data.append(str(tweet.rawContent))"
      ],
      "metadata": {
        "id": "T3msyo9GqrCp"
      },
      "execution_count": null,
      "outputs": []
    },
    {
      "cell_type": "markdown",
      "source": [
        "Save results to the file `Explanation_Data.txt`."
      ],
      "metadata": {
        "id": "UBfyRBzgrAHN"
      }
    },
    {
      "cell_type": "code",
      "source": [
        "result_file=open('Explanation_Data.txt','a')\n",
        "for tweet in data:result_file.write(tweet+'\\n')\n",
        "result_file.close()"
      ],
      "metadata": {
        "id": "iHwB6RvaqxW7"
      },
      "execution_count": null,
      "outputs": []
    }
  ]
}