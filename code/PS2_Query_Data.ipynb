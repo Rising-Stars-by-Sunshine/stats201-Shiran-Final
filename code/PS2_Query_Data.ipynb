{
  "nbformat": 4,
  "nbformat_minor": 0,
  "metadata": {
    "colab": {
      "provenance": []
    },
    "kernelspec": {
      "name": "python3",
      "display_name": "Python 3"
    },
    "language_info": {
      "name": "python"
    }
  },
  "cells": [
    {
      "cell_type": "markdown",
      "source": [
        "If `snscrape` is not already installed, run the following code to install the package."
      ],
      "metadata": {
        "id": "b-Oi7wJXWnXP"
      }
    },
    {
      "cell_type": "code",
      "execution_count": null,
      "metadata": {
        "id": "u16YIgEqV5U_"
      },
      "outputs": [],
      "source": [
        "!pip install snscrape"
      ]
    },
    {
      "cell_type": "markdown",
      "source": [
        "The following code is the main data query part and takes around 30 minutes to run. It returns all tweets satisfying the query `blockchain AND ((data privacy) OR (data security))` from the ten years 2013-2022. To help you understand its progress, it will automatically output the date of one tweet out of every 100 it scrapes. The order of the tweets should go backwards in time."
      ],
      "metadata": {
        "id": "FU0dk0x0WwEa"
      }
    },
    {
      "cell_type": "code",
      "source": [
        "import snscrape.modules.twitter as snt\n",
        "from collections import defaultdict\n",
        "datefreq=defaultdict(int)\n",
        "query=\"blockchain AND ((data privacy) OR (data security)) since:2013-01-01 until:2023-01-01\"\n",
        "scraper=snt.TwitterSearchScraper(query)\n",
        "i=0\n",
        "for tweet in scraper.get_items():\n",
        "    i+=1\n",
        "    datefreq[str(tweet.date)[:10]]+=1\n",
        "    if not i%100:print(tweet.date)"
      ],
      "metadata": {
        "id": "2fzlXhFVV6UK"
      },
      "execution_count": null,
      "outputs": []
    },
    {
      "cell_type": "markdown",
      "source": [
        "The following code generates the data for saving. Copy the output and save it in a `.txt` file. (Yeah I prefer `.txt` over `.csv` when saving data because the retrival process is more neat)."
      ],
      "metadata": {
        "id": "Y6z_YwU-XCHJ"
      }
    },
    {
      "cell_type": "code",
      "source": [
        "for key in datefreq.keys():print(key,datefreq[key])"
      ],
      "metadata": {
        "id": "4wPrZkadV9C8"
      },
      "execution_count": null,
      "outputs": []
    }
  ]
}